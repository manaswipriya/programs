{
  "nbformat": 4,
  "nbformat_minor": 0,
  "metadata": {
    "colab": {
      "provenance": []
    },
    "kernelspec": {
      "name": "python3",
      "display_name": "Python 3"
    },
    "language_info": {
      "name": "python"
    }
  },
  "cells": [
    {
      "cell_type": "code",
      "execution_count": 1,
      "metadata": {
        "colab": {
          "base_uri": "https://localhost:8080/"
        },
        "id": "2ukGyc6msT3Y",
        "outputId": "3a65d031-89a2-4bea-8e0d-e7ee33391fbc"
      },
      "outputs": [
        {
          "output_type": "stream",
          "name": "stdout",
          "text": [
            "Hello World\n",
            "Manaswi Priya\n"
          ]
        }
      ],
      "source": [
        "print('Hello World')\n",
        "print(\"Manaswi Priya\")"
      ]
    }
  ]
}